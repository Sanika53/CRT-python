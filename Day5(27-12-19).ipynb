{
 "cells": [
  {
   "cell_type": "code",
   "execution_count": 6,
   "metadata": {},
   "outputs": [
    {
     "name": "stdout",
     "output_type": "stream",
     "text": [
      "enter a stringpython123is456\n",
      "6\n"
     ]
    }
   ],
   "source": [
    "#count no of digits in given string\n",
    "#input:\"python123is456good789\"\n",
    "\n",
    "str=input(\"enter a string\")\n",
    "i=0\n",
    "count = 0\n",
    "while i<len(str):\n",
    "    if  str[i].isdigit():\n",
    "         count+= 1\n",
    "    i += 1\n",
    "print(count)\n",
    "    "
   ]
  },
  {
   "cell_type": "code",
   "execution_count": 26,
   "metadata": {},
   "outputs": [
    {
     "name": "stdout",
     "output_type": "stream",
     "text": [
      "enter a stringpyhton123\n",
      "3\n",
      "6\n"
     ]
    }
   ],
   "source": [
    "str=input(\"enter a string\")\n",
    "i=0\n",
    "count = 0\n",
    "sum = 0\n",
    "while i<len(str):\n",
    "    if  str[i].isdigit():\n",
    "          count += 1\n",
    "          sum += int(str[i])\n",
    "    i += 1\n",
    "print(count)\n",
    "print(sum)"
   ]
  },
  {
   "cell_type": "code",
   "execution_count": 29,
   "metadata": {},
   "outputs": [
    {
     "name": "stdout",
     "output_type": "stream",
     "text": [
      "enter a number5\n",
      "1 3 5 "
     ]
    }
   ],
   "source": [
    "#for loop\n",
    "#1.using range()\n",
    "#2.using iterable object\n",
    "n = int(input(\"enter a number\"))\n",
    "for i in range(1,n+1,2):\n",
    "  print(i,end=\" \")"
   ]
  },
  {
   "cell_type": "code",
   "execution_count": 44,
   "metadata": {},
   "outputs": [
    {
     "name": "stdout",
     "output_type": "stream",
     "text": [
      "enter stringpython\n",
      "p y t h o n \n",
      "p y t h o n \n",
      "p y t h o n "
     ]
    }
   ],
   "source": [
    "#input:python\n",
    "#output:p y t h o n\n",
    "str=input(\"enter string\")\n",
    "i=0\n",
    "while i<len(str):\n",
    "    print(str[i],end=\" \")\n",
    "    i +=1\n",
    "print()\n",
    "for i in range(0,len(str)):\n",
    "     print(str[i],end=\" \")\n",
    "print()\n",
    "for i in str:\n",
    "            print(i,end=\" \")"
   ]
  },
  {
   "cell_type": "markdown",
   "metadata": {},
   "source": [
    "## collection type data type:\n",
    "## list\n",
    "1. for creating a list use[]\n",
    "2. list are mutable\n",
    "3. list are indexed\n",
    "4. list are ordered\n",
    "5. list allows duplicate values\n",
    "6. it stores heterogeneous values\n"
   ]
  },
  {
   "cell_type": "code",
   "execution_count": 55,
   "metadata": {},
   "outputs": [
    {
     "name": "stdout",
     "output_type": "stream",
     "text": [
      "[59, 64, 6]\n",
      "[59, 64]\n",
      "sdneirf\n",
      "6\n"
     ]
    }
   ],
   "source": [
    "list1 = [59,64,34,13,\"friends\",True,[59,64,6]]\n",
    "print(list1[-1])\n",
    "print(list1[0:2])\n",
    "print(list1[-3][::-1])\n",
    "print(list1[-1][-1])"
   ]
  },
  {
   "cell_type": "code",
   "execution_count": 56,
   "metadata": {},
   "outputs": [
    {
     "name": "stdout",
     "output_type": "stream",
     "text": [
      "before adding elements: [59, 64, 6]\n",
      "after adding elements [59, 64, 6, 100, 100, 100]\n"
     ]
    }
   ],
   "source": [
    "#manipulating a list\n",
    "#1. adding elements\n",
    "list1 = [59,64,6]\n",
    "print(\"before adding elements:\",list1)\n",
    "list1.append(100)\n",
    "list1.append(100)\n",
    "list1.append(100)\n",
    "print(\"after adding elements\",list1)"
   ]
  },
  {
   "cell_type": "code",
   "execution_count": 57,
   "metadata": {},
   "outputs": [
    {
     "data": {
      "text/plain": [
       "[59, 64, 64, 6, 100, 100, 100]"
      ]
     },
     "execution_count": 57,
     "metadata": {},
     "output_type": "execute_result"
    }
   ],
   "source": [
    "list1.insert(1,64)\n",
    "list1"
   ]
  },
  {
   "cell_type": "code",
   "execution_count": 61,
   "metadata": {},
   "outputs": [
    {
     "data": {
      "text/plain": [
       "[59, 64, 64, 6, 100, 100, 100, 3, 4, 5, 3, 4, 5, 3, 4, 5, 3, 4, 5]"
      ]
     },
     "execution_count": 61,
     "metadata": {},
     "output_type": "execute_result"
    }
   ],
   "source": [
    "list1.extend([3,4,5])\n",
    "list1"
   ]
  },
  {
   "cell_type": "code",
   "execution_count": 64,
   "metadata": {},
   "outputs": [
    {
     "name": "stdout",
     "output_type": "stream",
     "text": [
      "[]\n"
     ]
    }
   ],
   "source": [
    "#removing elements from the list\n",
    "#list1.pop(6)\n",
    "#list1.remove(100)\n",
    "list1.clear()\n",
    "print(list1)\n"
   ]
  },
  {
   "cell_type": "code",
   "execution_count": 66,
   "metadata": {},
   "outputs": [
    {
     "name": "stdout",
     "output_type": "stream",
     "text": [
      "before adding elements: [59, 64, 6]\n",
      "after adding elements [59, 64, 6, 100, 100, 100]\n"
     ]
    },
    {
     "data": {
      "text/plain": [
       "[59, 64, 6, 100, 100, 1000]"
      ]
     },
     "execution_count": 66,
     "metadata": {},
     "output_type": "execute_result"
    }
   ],
   "source": [
    "#replacing an element\n",
    "list1 = [59,64,6]\n",
    "print(\"before adding elements:\",list1)\n",
    "list1.append(100)\n",
    "list1.append(100)\n",
    "list1.append(100)\n",
    "print(\"after adding elements\",list1)\n",
    "list1[5]=1000\n",
    "list1"
   ]
  },
  {
   "cell_type": "code",
   "execution_count": 73,
   "metadata": {},
   "outputs": [
    {
     "name": "stdout",
     "output_type": "stream",
     "text": [
      "[6, 59, 64, 100, 100, 1000]\n",
      "[1000, 100, 100, 64, 59, 6]\n"
     ]
    },
    {
     "data": {
      "text/plain": [
       "[6, 59, 64, 100, 100, 1000]"
      ]
     },
     "execution_count": 73,
     "metadata": {},
     "output_type": "execute_result"
    }
   ],
   "source": [
    "#sorting a list\n",
    "list1.sort()\n",
    "print(list1)\n",
    "list1.sort(reverse=True)\n",
    "print(list1)\n",
    "list1.reverse()\n",
    "list1\n"
   ]
  },
  {
   "cell_type": "code",
   "execution_count": 74,
   "metadata": {},
   "outputs": [
    {
     "data": {
      "text/plain": [
       "0"
      ]
     },
     "execution_count": 74,
     "metadata": {},
     "output_type": "execute_result"
    }
   ],
   "source": [
    "list1.index(6)\n"
   ]
  },
  {
   "cell_type": "code",
   "execution_count": 75,
   "metadata": {},
   "outputs": [
    {
     "data": {
      "text/plain": [
       "2"
      ]
     },
     "execution_count": 75,
     "metadata": {},
     "output_type": "execute_result"
    }
   ],
   "source": [
    "list1.count(100)"
   ]
  },
  {
   "cell_type": "code",
   "execution_count": 78,
   "metadata": {},
   "outputs": [
    {
     "name": "stdout",
     "output_type": "stream",
     "text": [
      "[6, 59, 64, 100, 100, 1000, 'python']     [6, 59, 64, 100, 100, 1000, 'python']\n"
     ]
    }
   ],
   "source": [
    "list1.append(\"python\")\n",
    "list2 = list1\n",
    "print(list1,\"   \",list2)"
   ]
  },
  {
   "cell_type": "code",
   "execution_count": 79,
   "metadata": {},
   "outputs": [
    {
     "data": {
      "text/plain": [
       "[6, 59, 64, 100, 100, 1000, 'python']"
      ]
     },
     "execution_count": 79,
     "metadata": {},
     "output_type": "execute_result"
    }
   ],
   "source": [
    "list3=list1.copy()\n",
    "list3"
   ]
  },
  {
   "cell_type": "code",
   "execution_count": 80,
   "metadata": {},
   "outputs": [
    {
     "name": "stdout",
     "output_type": "stream",
     "text": [
      "[6, 59, 64, 100, 100, 1000, 'python'] [6, 59, 64, 100, 100, 1000, 'python'] [6, 59, 64, 100, 100, 1000, 'python']\n",
      "[6, 59, 64, 100, 100, 1000, 'python', 100] [6, 59, 64, 100, 100, 1000, 'python', 100] [6, 59, 64, 100, 100, 1000, 'python']\n"
     ]
    }
   ],
   "source": [
    "print(list1,list2,list3)\n",
    "list1.append(100)\n",
    "print(list1,list2,list3)"
   ]
  },
  {
   "cell_type": "code",
   "execution_count": 95,
   "metadata": {},
   "outputs": [
    {
     "name": "stdout",
     "output_type": "stream",
     "text": [
      "[4, 16, 25, 49, 64]\n",
      "[4, 16, 25, 49, 64]\n"
     ]
    }
   ],
   "source": [
    "#input : [2,4,5,7,8]\n",
    "#output : [4,16,25,49,64]\n",
    "\n",
    "l1= [2,4,5,7,8]\n",
    "l2= []\n",
    "l3= []\n",
    "for i in range(0,len(l1)):\n",
    "  l2.append(l1[i]**2)\n",
    "print(l2)\n",
    "for i in l1:\n",
    "   l3.append(i**2)\n",
    "print(l3)"
   ]
  },
  {
   "cell_type": "code",
   "execution_count": 101,
   "metadata": {},
   "outputs": [
    {
     "name": "stdout",
     "output_type": "stream",
     "text": [
      "2\n",
      "4\n"
     ]
    }
   ],
   "source": [
    "l1=[2,4,5,7]\n",
    "for i in l1:\n",
    "        if(i%2==0):\n",
    "            print(i)"
   ]
  },
  {
   "cell_type": "code",
   "execution_count": 1,
   "metadata": {},
   "outputs": [
    {
     "name": "stdout",
     "output_type": "stream",
     "text": [
      "5\n",
      "1\n",
      "9\n",
      "6\n",
      "5\n",
      "66\n",
      "87\n"
     ]
    }
   ],
   "source": [
    "#create list and accept values of list at runtime\n",
    "#and print sum of all the elements of the list\n",
    "l1=[]\n",
    "n=int(input())\n",
    "for i in range(n):\n",
    "    l1.append(int(input()))\n",
    "print(sum(l1))\n"
   ]
  },
  {
   "cell_type": "markdown",
   "metadata": {},
   "source": [
    "## tuple:\n"
   ]
  },
  {
   "cell_type": "code",
   "execution_count": 2,
   "metadata": {},
   "outputs": [
    {
     "name": "stdout",
     "output_type": "stream",
     "text": [
      "(6, 7, 56, 66)\n",
      "<class 'tuple'>\n"
     ]
    }
   ],
   "source": [
    "x=6,7,56,66\n",
    "print(x)\n",
    "print(type(x))"
   ]
  },
  {
   "cell_type": "code",
   "execution_count": 4,
   "metadata": {},
   "outputs": [
    {
     "name": "stdout",
     "output_type": "stream",
     "text": [
      "5 6 7\n"
     ]
    }
   ],
   "source": [
    "tup1=(5,6,7)\n",
    "x,y,z=tup1\n",
    "print(x,y,z)"
   ]
  },
  {
   "cell_type": "markdown",
   "metadata": {},
   "source": [
    "### dictionary:\n",
    "### syntax:{key1:value1,key2:value2,......}\n",
    "### key:\n",
    "1. key should be unique\n",
    "2. key should be immutable-->int,float,string,tuple"
   ]
  },
  {
   "cell_type": "code",
   "execution_count": 9,
   "metadata": {},
   "outputs": [
    {
     "data": {
      "text/plain": [
       "'cse'"
      ]
     },
     "execution_count": 9,
     "metadata": {},
     "output_type": "execute_result"
    }
   ],
   "source": [
    "dict1={\"name\":\"san\",\"course\":\"cse\",\"address\":\"hyd\"}\n",
    "dict1[\"course\"]"
   ]
  },
  {
   "cell_type": "code",
   "execution_count": 10,
   "metadata": {},
   "outputs": [
    {
     "name": "stdout",
     "output_type": "stream",
     "text": [
      "{'name': 'san', 'course': 'c programming', 'address': 'hyd'}\n"
     ]
    }
   ],
   "source": [
    "#replace values\n",
    "dict1[\"course\"]=\"c programming\"\n",
    "print(dict1)"
   ]
  },
  {
   "cell_type": "code",
   "execution_count": 11,
   "metadata": {},
   "outputs": [
    {
     "name": "stdout",
     "output_type": "stream",
     "text": [
      "{'name': 'san', 'course': 'c programming', 'address': 'hyd', 'college': 'gitam'}\n"
     ]
    }
   ],
   "source": [
    "#adding entry\n",
    "dict1[\"college\"]=\"gitam\"\n",
    "print(dict1)"
   ]
  },
  {
   "cell_type": "code",
   "execution_count": 12,
   "metadata": {},
   "outputs": [
    {
     "name": "stdout",
     "output_type": "stream",
     "text": [
      "{'name': 'san', 'course': 'c programming', 'college': 'gitam'}\n"
     ]
    }
   ],
   "source": [
    "#removing entry\n",
    "del dict1[\"address\"]\n",
    "print(dict1)"
   ]
  },
  {
   "cell_type": "markdown",
   "metadata": {},
   "source": [
    "## function:\n",
    "### def name_of_func(arg list):\n",
    "###    statements\n",
    "####     return"
   ]
  },
  {
   "cell_type": "code",
   "execution_count": 16,
   "metadata": {},
   "outputs": [
    {
     "name": "stdout",
     "output_type": "stream",
     "text": [
      "40\n"
     ]
    },
    {
     "data": {
      "text/plain": [
       "600"
      ]
     },
     "execution_count": 16,
     "metadata": {},
     "output_type": "execute_result"
    }
   ],
   "source": [
    "def add(x,y):\n",
    " return x+y\n",
    "print(add(10,30))\n",
    "add(100,500)"
   ]
  },
  {
   "cell_type": "code",
   "execution_count": 17,
   "metadata": {},
   "outputs": [
    {
     "name": "stdout",
     "output_type": "stream",
     "text": [
      "27\n"
     ]
    }
   ],
   "source": [
    "def square(x):\n",
    "    return x*x\n",
    "def cube(x):\n",
    "    return square(x)*x\n",
    "print(cube(3))"
   ]
  },
  {
   "cell_type": "code",
   "execution_count": null,
   "metadata": {},
   "outputs": [],
   "source": []
  }
 ],
 "metadata": {
  "kernelspec": {
   "display_name": "Python 3",
   "language": "python",
   "name": "python3"
  },
  "language_info": {
   "codemirror_mode": {
    "name": "ipython",
    "version": 3
   },
   "file_extension": ".py",
   "mimetype": "text/x-python",
   "name": "python",
   "nbconvert_exporter": "python",
   "pygments_lexer": "ipython3",
   "version": "3.7.4"
  }
 },
 "nbformat": 4,
 "nbformat_minor": 2
}
