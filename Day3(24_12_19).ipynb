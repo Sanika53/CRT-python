{
  "nbformat": 4,
  "nbformat_minor": 0,
  "metadata": {
    "colab": {
      "name": "Day3(24-12-19).ipynb",
      "provenance": []
    },
    "kernelspec": {
      "name": "python3",
      "display_name": "Python 3"
    }
  },
  "cells": [
    {
      "cell_type": "markdown",
      "metadata": {
        "id": "GCtFR9s2YGar",
        "colab_type": "text"
      },
      "source": [
        "#python programming\n",
        "##python programming\n",
        "###python programming\n",
        "####python programming\n",
        "######python programming"
      ]
    },
    {
      "cell_type": "code",
      "metadata": {
        "id": "zK61q7lXZAU9",
        "colab_type": "code",
        "colab": {}
      },
      "source": [
        ""
      ],
      "execution_count": 0,
      "outputs": []
    },
    {
      "cell_type": "markdown",
      "metadata": {
        "id": "Zezdwni-ZUPz",
        "colab_type": "text"
      },
      "source": [
        "1. a\n",
        "2. b\n",
        "3. c\n",
        " 1. d\n",
        " 2. e\n",
        " 3. f"
      ]
    },
    {
      "cell_type": "markdown",
      "metadata": {
        "id": "fijP-dW8buAJ",
        "colab_type": "text"
      },
      "source": [
        "[python](https://www.geeksforgeeks.org/)"
      ]
    },
    {
      "cell_type": "markdown",
      "metadata": {
        "id": "4Rhq19ijcllk",
        "colab_type": "text"
      },
      "source": [
        "![image](https://i.udemycdn.com/course/750x422/1817082_cf8a_9.jpg)"
      ]
    },
    {
      "cell_type": "markdown",
      "metadata": {
        "id": "pjRMj5SbdoWT",
        "colab_type": "text"
      },
      "source": [
        "* abc\n",
        "* def"
      ]
    },
    {
      "cell_type": "code",
      "metadata": {
        "id": "PyPTqZYIeQ9c",
        "colab_type": "code",
        "colab": {
          "base_uri": "https://localhost:8080/",
          "height": 34
        },
        "outputId": "ec453569-f2e3-43d0-c5d9-339da3ce4bbd"
      },
      "source": [
        "print(\"hello world\")"
      ],
      "execution_count": 1,
      "outputs": [
        {
          "output_type": "stream",
          "text": [
            "hello world\n"
          ],
          "name": "stdout"
        }
      ]
    },
    {
      "cell_type": "code",
      "metadata": {
        "id": "OzTmvZJGiYs8",
        "colab_type": "code",
        "colab": {
          "base_uri": "https://localhost:8080/",
          "height": 34
        },
        "outputId": "5d104aa1-d0b2-4170-d6ce-3e72dba7c05f"
      },
      "source": [
        "a=10\n",
        "b=20\n",
        "print(type(a),type(b))"
      ],
      "execution_count": 3,
      "outputs": [
        {
          "output_type": "stream",
          "text": [
            "<class 'int'> <class 'int'>\n"
          ],
          "name": "stdout"
        }
      ]
    },
    {
      "cell_type": "code",
      "metadata": {
        "id": "ICD8QbGWirUg",
        "colab_type": "code",
        "colab": {
          "base_uri": "https://localhost:8080/",
          "height": 34
        },
        "outputId": "5c539bd7-ee4e-45df-e2b7-afb9bba440c2"
      },
      "source": [
        "a=10.6\n",
        "b=20\n",
        "print(type(a),type(b))"
      ],
      "execution_count": 4,
      "outputs": [
        {
          "output_type": "stream",
          "text": [
            "<class 'float'> <class 'int'>\n"
          ],
          "name": "stdout"
        }
      ]
    },
    {
      "cell_type": "code",
      "metadata": {
        "id": "-FcSx4jFi9Rm",
        "colab_type": "code",
        "colab": {
          "base_uri": "https://localhost:8080/",
          "height": 70
        },
        "outputId": "80b7ccd1-774c-4eb6-b4a5-b2baac08c51f"
      },
      "source": [
        "a=int(input(\"enter a value\"))\n",
        "b=int(input(\"enter b value\"))\n",
        "print(a+b)"
      ],
      "execution_count": 6,
      "outputs": [
        {
          "output_type": "stream",
          "text": [
            "enter a value10\n",
            "enter b value20\n",
            "30\n"
          ],
          "name": "stdout"
        }
      ]
    },
    {
      "cell_type": "code",
      "metadata": {
        "id": "AYp1msdRj5Ew",
        "colab_type": "code",
        "colab": {
          "base_uri": "https://localhost:8080/",
          "height": 70
        },
        "outputId": "1fac6b18-d64c-4893-bde1-9645f1b380d5"
      },
      "source": [
        "a=input(\"enter a value\")\n",
        "b=input(\"enter b value\")\n",
        "print(a+b)"
      ],
      "execution_count": 7,
      "outputs": [
        {
          "output_type": "stream",
          "text": [
            "enter a value10\n",
            "enter b value20\n",
            "1020\n"
          ],
          "name": "stdout"
        }
      ]
    },
    {
      "cell_type": "code",
      "metadata": {
        "id": "PYYzOPFtkfBl",
        "colab_type": "code",
        "colab": {
          "base_uri": "https://localhost:8080/",
          "height": 70
        },
        "outputId": "56cce920-3e85-4005-9be2-31cdf1463571"
      },
      "source": [
        "name=input(\"enter name\")\n",
        "age=int(input(\"enter age\"))\n",
        "print(\"my name is \"+name+ \" and age is\",age)"
      ],
      "execution_count": 10,
      "outputs": [
        {
          "output_type": "stream",
          "text": [
            "enter namesan\n",
            "enter age20\n",
            "my name is san and age is 20\n"
          ],
          "name": "stdout"
        }
      ]
    },
    {
      "cell_type": "code",
      "metadata": {
        "id": "Al3OBuF8logJ",
        "colab_type": "code",
        "colab": {
          "base_uri": "https://localhost:8080/",
          "height": 70
        },
        "outputId": "80aa1248-71bc-489b-d6d1-3ad1365c0998"
      },
      "source": [
        "name=input(\"enter name\")\n",
        "age=int(input(\"enter age\"))\n",
        "print(\"my name is \",name,end=\"\")\n",
        "print(\" age is\",age)"
      ],
      "execution_count": 17,
      "outputs": [
        {
          "output_type": "stream",
          "text": [
            "enter namesan\n",
            "enter age20\n",
            "my name is  san age is 20\n"
          ],
          "name": "stdout"
        }
      ]
    },
    {
      "cell_type": "code",
      "metadata": {
        "id": "-PwL3mR3myZx",
        "colab_type": "code",
        "colab": {
          "base_uri": "https://localhost:8080/",
          "height": 87
        },
        "outputId": "d238964c-203f-4dc0-e0b6-e0b2b06b8547"
      },
      "source": [
        "name=input(\"enter name\")\n",
        "age=int(input(\"enter age\"))\n",
        "print(\"my name is \",name)\n",
        "print(\" age is\",age)"
      ],
      "execution_count": 18,
      "outputs": [
        {
          "output_type": "stream",
          "text": [
            "enter namesan\n",
            "enter age20\n",
            "my name is  san\n",
            " age is 20\n"
          ],
          "name": "stdout"
        }
      ]
    },
    {
      "cell_type": "code",
      "metadata": {
        "id": "2HyQiwqRob5V",
        "colab_type": "code",
        "colab": {
          "base_uri": "https://localhost:8080/",
          "height": 246
        },
        "outputId": "a4361912-dbe4-499b-f917-abf3d435117b"
      },
      "source": [
        "help(\"keywords\")"
      ],
      "execution_count": 19,
      "outputs": [
        {
          "output_type": "stream",
          "text": [
            "\n",
            "Here is a list of the Python keywords.  Enter any keyword to get more help.\n",
            "\n",
            "False               def                 if                  raise\n",
            "None                del                 import              return\n",
            "True                elif                in                  try\n",
            "and                 else                is                  while\n",
            "as                  except              lambda              with\n",
            "assert              finally             nonlocal            yield\n",
            "break               for                 not                 \n",
            "class               from                or                  \n",
            "continue            global              pass                \n",
            "\n"
          ],
          "name": "stdout"
        }
      ]
    },
    {
      "cell_type": "code",
      "metadata": {
        "id": "O1o3A547pVB9",
        "colab_type": "code",
        "colab": {}
      },
      "source": [
        ""
      ],
      "execution_count": 0,
      "outputs": []
    }
  ]
}